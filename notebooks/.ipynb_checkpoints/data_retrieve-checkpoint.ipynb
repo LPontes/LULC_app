{
 "cells": [
  {
   "cell_type": "markdown",
   "metadata": {},
   "source": [
    "# Notebook used to obtain the training and test datasets"
   ]
  },
  {
   "cell_type": "code",
   "execution_count": 1,
   "metadata": {},
   "outputs": [],
   "source": [
    "import ee\n",
    "import geemap\n",
    "\n",
    "import json\n",
    "from ipyleaflet import GeoJSON\n",
    "\n",
    "import os\n",
    "import pickle "
   ]
  },
  {
   "cell_type": "code",
   "execution_count": 8,
   "metadata": {},
   "outputs": [],
   "source": [
    "Map = geemap.Map(center=[-15, -57] )"
   ]
  },
  {
   "cell_type": "code",
   "execution_count": 3,
   "metadata": {},
   "outputs": [],
   "source": [
    "# Use this information to set polygon label and color property \n",
    "legend_dict = {\n",
    "    '0 - Water': '3388ff',\n",
    "    '1 - Bare soil': 'e72a08',\n",
    "    '2 - Forest': '3ba702',\n",
    "    '3 - Annual crop': 'e4f406',\n",
    "    '4 - Perennial crop': '44ff00',\n",
    "    '5 - Pasture': 'c88d0e',\n",
    "    '6 - Urban area': 'bab7b0'\n",
    "}"
   ]
  },
  {
   "cell_type": "markdown",
   "metadata": {},
   "source": [
    "## Step 1: zoom in to a area of interest and draw a small polygon"
   ]
  },
  {
   "cell_type": "code",
   "execution_count": 9,
   "metadata": {},
   "outputs": [
    {
     "data": {
      "application/vnd.jupyter.widget-view+json": {
       "model_id": "98b4dcb5c8874814826debb057e55e88",
       "version_major": 2,
       "version_minor": 0
      },
      "text/plain": [
       "Map(center=[-15, -57], controls=(WidgetControl(options=['position'], widget=HBox(children=(ToggleButton(value=…"
      ]
     },
     "metadata": {},
     "output_type": "display_data"
    }
   ],
   "source": [
    "Map"
   ]
  },
  {
   "cell_type": "markdown",
   "metadata": {},
   "source": [
    "## Step 2: Run the next cell to define and display the image object as an Sentinel-2 image"
   ]
  },
  {
   "cell_type": "code",
   "execution_count": 11,
   "metadata": {},
   "outputs": [],
   "source": [
    "image = (ee.ImageCollection('COPERNICUS/S2_SR')\n",
    "         .filterBounds(Map.user_rois.geometry())\n",
    "         .filterDate('2020-09-01', '2020-12-31')\n",
    "         .sort('CLOUDY_PIXEL_PERCENTAGE')\n",
    "         .first()\n",
    "         )\n",
    "\n",
    "# Add the image layer to the map and display it.\n",
    "Map.add_ee_layer(\n",
    "    image, {'bands': ['B4', 'B3', 'B2'], 'min': 0, 'max': 2000}, 'sentinel')\n"
   ]
  },
  {
   "cell_type": "markdown",
   "metadata": {},
   "source": [
    "## Step 3: Set and draw polygon properties accordingly with the land cover classes\n",
    "\n",
    "- Before start this process take care to clean all previous polygons with had drawn\n",
    "\n",
    "##### For more details see the video below:\n",
    "geemap.show_youtube(\"https://youtu.be/VWh5PxXPZw0\")"
   ]
  },
  {
   "cell_type": "markdown",
   "metadata": {},
   "source": [
    "# Make the training dataset."
   ]
  },
  {
   "cell_type": "code",
   "execution_count": 12,
   "metadata": {},
   "outputs": [
    {
     "name": "stdout",
     "output_type": "stream",
     "text": [
      "{'type': 'FeatureCollection', 'columns': {'system:index': 'String'}, 'features': [{'type': 'Feature', 'geometry': {'type': 'Polygon', 'coordinates': [[[-54.574371, -15.427158787467349], [-54.598928918241555, -15.430530610855428], [-54.62153426815929, -15.440377997472881], [-54.64038920968418, -15.455917938975814], [-54.65399325780134, -15.475914568064514], [-54.66126260423133, -15.498777187957492], [-54.66161667381733, -15.522686569195363], [-54.6550249392486, -15.545739561039282], [-54.64201008214709, -15.566100569311669], [-54.623607020860526, -15.582147848255545], [-54.60128086687716, -15.592602906669784], [-54.57681023312644, -15.596632629140894], [-54.55214520275903, -15.593915872316812], [-54.529251406197396, -15.584669146544432], [-54.50995283748738, -15.569629301021786], [-54.49578614873132, -15.549994616280339], [-54.487878182635406, -15.527329073491137], [-54.486856537195365, -15.503437530265206], [-54.49280019750091, -15.48022184263001], [-54.50523397855468, -15.459529451168008], [-54.52316699333224, -15.443006490850943], [-54.54517188498093, -15.431967064319485], [-54.569498407256745, -15.427288989088442], [-54.574371, -15.427158787467349]]]}, 'id': '0', 'properties': {}}]}\n"
     ]
    }
   ],
   "source": [
    "if Map.user_rois is not None:\n",
    "    aoi = Map.user_rois\n",
    "    print(aoi.getInfo())"
   ]
  },
  {
   "cell_type": "code",
   "execution_count": 13,
   "metadata": {},
   "outputs": [],
   "source": [
    "lat = str(aoi.first().getInfo()['geometry']['coordinates'][0][0][0]).replace('-', \"\").replace('.','')\n",
    "lon = str(aoi.first().getInfo()['geometry']['coordinates'][0][0][1]).replace('-', \"\").replace('.','')"
   ]
  },
  {
   "cell_type": "code",
   "execution_count": null,
   "metadata": {},
   "outputs": [],
   "source": [
    "# Use these bands for prediction.\n",
    "bands = ['B1', 'B2', 'B3', 'B4', 'B5', 'B6', 'B7']\n",
    "\n",
    "# This property of the table stores the land cover labels.\n",
    "label = 'landcover'\n",
    "\n",
    "# Overlay the points on the imagery to get training.\n",
    "data_points = image.select(bands).sampleRegions(**{\n",
    "  'collection': aoi,\n",
    "  'properties': [label],\n",
    "  'scale': 10,\n",
    "  'tileScale':16\n",
    "})"
   ]
  },
  {
   "cell_type": "code",
   "execution_count": 35,
   "metadata": {},
   "outputs": [
    {
     "name": "stdout",
     "output_type": "stream",
     "text": [
      "27454\n"
     ]
    }
   ],
   "source": [
    "print(data_points.size().getInfo())"
   ]
  },
  {
   "cell_type": "markdown",
   "metadata": {},
   "source": [
    "#### Save training points\n",
    "\n",
    "- if you retrieving training data run the cell below"
   ]
  },
  {
   "cell_type": "code",
   "execution_count": null,
   "metadata": {},
   "outputs": [],
   "source": [
    "#Save aoi for a given image\n",
    "with open('..data/train/polygons/aoi_'+lat+'_'+lon+'.pickle', 'wb') as f:\n",
    "    # Pickle the 'data' dictionary using the highest protocol available.\n",
    "    pickle.dump(aoi.filter(ee.Filter.notNull(['landcover']) ), f)"
   ]
  },
  {
   "cell_type": "code",
   "execution_count": null,
   "metadata": {},
   "outputs": [],
   "source": [
    "with open('../data/train/data_'+lat+'_'+lon+'.pickle', 'wb') as f:\n",
    "    # Pickle the 'data' dictionary using the highest protocol available.\n",
    "    pickle.dump(data_points.filter(ee.Filter.notNull(['landcover']) ), f)"
   ]
  },
  {
   "cell_type": "markdown",
   "metadata": {},
   "source": [
    "#### Save external validation points\n",
    "- to save the external validation data set run the cell below"
   ]
  },
  {
   "cell_type": "code",
   "execution_count": null,
   "metadata": {},
   "outputs": [],
   "source": [
    "#Save aoi for a given image\n",
    "with open('..data/test/polygons/aoi_'+lat+'_'+lon+'.pickle', 'wb') as f:\n",
    "    # Pickle the 'data' dictionary using the highest protocol available.\n",
    "    pickle.dump(aoi.filter(ee.Filter.notNull(['landcover']) ), f)"
   ]
  },
  {
   "cell_type": "code",
   "execution_count": null,
   "metadata": {},
   "outputs": [],
   "source": [
    "with open('../data/test/data_'+lat+'_'+lon+'.pickle', 'wb') as f:\n",
    "    # Pickle the 'data' dictionary using the highest protocol available.\n",
    "    pickle.dump(data_points.filter(ee.Filter.notNull(['landcover']) ), f)"
   ]
  },
  {
   "cell_type": "markdown",
   "metadata": {},
   "source": [
    "## Step 4: repeat this process for other region and image"
   ]
  }
 ],
 "metadata": {
  "kernelspec": {
   "display_name": "Python 3",
   "language": "python",
   "name": "python3"
  },
  "language_info": {
   "codemirror_mode": {
    "name": "ipython",
    "version": 3
   },
   "file_extension": ".py",
   "mimetype": "text/x-python",
   "name": "python",
   "nbconvert_exporter": "python",
   "pygments_lexer": "ipython3",
   "version": "3.8.3"
  }
 },
 "nbformat": 4,
 "nbformat_minor": 4
}
