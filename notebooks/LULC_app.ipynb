{
 "cells": [
  {
   "cell_type": "code",
   "execution_count": 3,
   "metadata": {},
   "outputs": [],
   "source": [
    "# Import libraries\n",
    "import os\n",
    "import ee\n",
    "import geemap\n",
    "import ipywidgets as widgets\n",
    "from bqplot import pyplot as plt\n",
    "from ipyleaflet import WidgetControl\n",
    "\n",
    "import pickle"
   ]
  },
  {
   "cell_type": "code",
   "execution_count": 4,
   "metadata": {},
   "outputs": [
    {
     "output_type": "display_data",
     "data": {
      "text/plain": "Map(center=[-17, -40], controls=(WidgetControl(options=['position'], widget=HBox(children=(ToggleButton(value=…",
      "application/vnd.jupyter.widget-view+json": {
       "version_major": 2,
       "version_minor": 0,
       "model_id": "f5190c53b6f141d69506ae5cae8b3678"
      }
     },
     "metadata": {}
    }
   ],
   "source": [
    "# Create an interactive map\n",
    "Map = geemap.Map(center=[-17, -40], zoom=4, add_google_map=False)\n",
    "Map.add_basemap('HYBRID')\n",
    "Map.add_basemap('ROADMAP')"
   ]
  },
  {
   "cell_type": "code",
   "execution_count": null,
   "metadata": {},
   "outputs": [],
   "source": [
    "Map"
   ]
  },
  {
   "cell_type": "code",
   "execution_count": 5,
   "metadata": {},
   "outputs": [],
   "source": [
    "# Load trained model\n",
    "with open('../model/trained_v1.pickle', 'rb') as f:\n",
    "    # The protocol version used is detected automatically, so we do not\n",
    "    #     # have to specify it.\n",
    "    model = pickle.load(f)"
   ]
  },
  {
   "cell_type": "code",
   "execution_count": 3,
   "metadata": {},
   "outputs": [
    {
     "data": {
      "application/vnd.jupyter.widget-view+json": {
       "model_id": "ebbb45ea4b6a4cd9bf494a077e71fc86",
       "version_major": 2,
       "version_minor": 0
      },
      "text/plain": [
       "VBox(children=(HBox(children=(Checkbox(value=False, description='Use user-drawn AOI', style=DescriptionStyle(d…"
      ]
     },
     "metadata": {},
     "output_type": "display_data"
    }
   ],
   "source": [
    "# Designe interactive widgets\n",
    "\n",
    "style = {'description_width': 'initial'}\n",
    "\n",
    "output_widget = widgets.Output(layout={'border': '1px solid black'})\n",
    "output_control = WidgetControl(widget=output_widget, position='bottomright')\n",
    "Map.add_control(output_control)\n",
    "\n",
    "aoi_widget = widgets.Checkbox(\n",
    "    value=False,\n",
    "    description='Use user-drawn AOI',\n",
    "    style=style\n",
    ")\n",
    "\n",
    "\n",
    "year_widget = widgets.IntSlider(min=1984, max=2021, value=2010, description='Selected year:', width=400, style=style)\n",
    "\n",
    "submit = widgets.Button(\n",
    "    description='Submit',\n",
    "    button_style='primary',\n",
    "    tooltip='Click me',\n",
    "    style=style\n",
    ")\n",
    "\n",
    "#labels\n",
    "step1 = widgets.Label('Step 1: Select the date')\n",
    "step2 = widgets.Label('Step 2: Select Region from the map')\n",
    "\n",
    "\"\"\"\n",
    "full_widget = widgets.HBox([\n",
    "    widgets.VBox([step1, dateBox]),\n",
    "    widgets.VBox([step2, submit])\n",
    "])\n",
    "\"\"\"\n",
    "\n",
    "full_widget = widgets.VBox([\n",
    "    widgets.HBox([aoi_widget, year_widget]),\n",
    "    submit\n",
    "])\n",
    "\n",
    "full_widget"
   ]
  },
  {
   "cell_type": "markdown",
   "metadata": {},
   "source": [
    "## Instructions:\n",
    "- Step 1: Select the area you want to classify and draw a polygon with the tools on the map left bar\n",
    "- Step 2: Check the box 'Use user-drawn AOI' and click \"Submit\" "
   ]
  },
  {
   "cell_type": "code",
   "execution_count": 5,
   "metadata": {},
   "outputs": [],
   "source": [
    "def submit_clicked(b):\n",
    "    \n",
    "    with output_widget:\n",
    "        output_widget.clear_output()\n",
    "        print('Computing...')\n",
    "        Map.default_style = {'cursor': 'wait'}\n",
    "\n",
    "        try:\n",
    "            selected_year = year_widget.value\n",
    "            use_aoi = aoi_widget.value\n",
    "                       \n",
    "            if use_aoi:\n",
    "                if Map.user_roi is not None:\n",
    "                    roi = Map.user_roi\n",
    "                    layer_name = 'User drawn AOI'\n",
    "                    geom = roi\n",
    "                else:\n",
    "                    output_widget.clear_output() \n",
    "                    print('No user AOI could be found.')\n",
    "                    return\n",
    "            else:\n",
    "                print('No user AOI could be found.')\n",
    "                return\n",
    "               \n",
    "            image = (ee.ImageCollection('COPERNICUS/S2_SR')\n",
    "                     .filterBounds(Map.user_rois.geometry())\n",
    "                     .filterDate('2019-09-01', '2019-12-31')\n",
    "                     .filter(ee.Filter.lt('CLOUDY_PIXEL_PERCENTAGE',10))\n",
    "                     .median().clip(Map.user_rois.geometry())\n",
    "                     )\n",
    "\n",
    "            # Add the image layer to the map and display it.\n",
    "            Map.add_ee_layer(\n",
    "                image, {'bands': ['B4', 'B3', 'B2'],\n",
    "                        'min': 0, 'max': 2000}, 'sentinel')\n",
    "            \n",
    "            bands = ['B1', 'B2', 'B3', 'B4', 'B5', 'B6', 'B7']\n",
    "\n",
    "            result = image.select(bands).classify(model)\n",
    "\n",
    "            # # Display the clusters with random colors.\n",
    "            Map.addLayer(result.randomVisualizer(), {}, 'classified')\n",
    "\n",
    "            legend_dict = {\n",
    "                'Water': '3388ff',\n",
    "                'Bare soil': 'e72a08',\n",
    "                'Forest': '3ba702',\n",
    "                'Annual crop': 'e4f406',\n",
    "                'Perennial crop': '44ff00',\n",
    "                'Pasture': 'c88d0e',\n",
    "                'Urban area': 'bab7b0'}\n",
    "\n",
    "            Map.add_legend(legend_dict=legend_dict)\n",
    "\n",
    "\n",
    "        except Exception as e:\n",
    "            print(e)\n",
    "            print('An error occurred during computation.')        \n",
    "\n",
    "        Map.default_style = {'cursor': 'default'}\n",
    "\n",
    "submit.on_click(submit_clicked)"
   ]
  }
 ],
 "metadata": {
  "kernelspec": {
   "name": "python383jvsc74a57bd025dbb0bd181452ee2300bd18cd9a66b3d6c42a614610fbedf164b659789971e4",
   "display_name": "Python 3.8.3 64-bit ('geo': conda)"
  },
  "language_info": {
   "codemirror_mode": {
    "name": "ipython",
    "version": 3
   },
   "file_extension": ".py",
   "mimetype": "text/x-python",
   "name": "python",
   "nbconvert_exporter": "python",
   "pygments_lexer": "ipython3",
   "version": "3.8.3"
  }
 },
 "nbformat": 4,
 "nbformat_minor": 4
}